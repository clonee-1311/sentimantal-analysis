{
 "cells": [
  {
   "cell_type": "code",
   "execution_count": 1,
   "id": "8054b0a6-1fd2-4683-a828-4a2f88df249b",
   "metadata": {},
   "outputs": [
    {
     "name": "stdout",
     "output_type": "stream",
     "text": [
      "Requirement already satisfied: kagglehub in c:\\users\\stuti\\anaconda3\\lib\\site-packages (0.3.6)Note: you may need to restart the kernel to use updated packages.\n",
      "\n",
      "Requirement already satisfied: packaging in c:\\users\\stuti\\anaconda3\\lib\\site-packages (from kagglehub) (23.1)\n",
      "Requirement already satisfied: requests in c:\\users\\stuti\\anaconda3\\lib\\site-packages (from kagglehub) (2.31.0)\n",
      "Requirement already satisfied: tqdm in c:\\users\\stuti\\anaconda3\\lib\\site-packages (from kagglehub) (4.65.0)\n",
      "Requirement already satisfied: charset-normalizer<4,>=2 in c:\\users\\stuti\\anaconda3\\lib\\site-packages (from requests->kagglehub) (2.0.4)\n",
      "Requirement already satisfied: idna<4,>=2.5 in c:\\users\\stuti\\anaconda3\\lib\\site-packages (from requests->kagglehub) (3.4)\n",
      "Requirement already satisfied: urllib3<3,>=1.21.1 in c:\\users\\stuti\\anaconda3\\lib\\site-packages (from requests->kagglehub) (2.0.7)\n",
      "Requirement already satisfied: certifi>=2017.4.17 in c:\\users\\stuti\\anaconda3\\lib\\site-packages (from requests->kagglehub) (2024.2.2)\n",
      "Requirement already satisfied: colorama in c:\\users\\stuti\\anaconda3\\lib\\site-packages (from tqdm->kagglehub) (0.4.6)\n"
     ]
    }
   ],
   "source": [
    "pip install kagglehub"
   ]
  },
  {
   "cell_type": "code",
   "execution_count": 2,
   "id": "351ed735-8976-45b8-888f-a6ea22002c8c",
   "metadata": {},
   "outputs": [
    {
     "name": "stderr",
     "output_type": "stream",
     "text": [
      "The syntax of the command is incorrect.\n",
      "'cp' is not recognized as an internal or external command,\n",
      "operable program or batch file.\n",
      "'chmod' is not recognized as an internal or external command,\n",
      "operable program or batch file.\n"
     ]
    }
   ],
   "source": [
    "!mkdir -p ~/.kaggle\n",
    "!cp kaggle.json ~/.kaggle/\n",
    "!chmod 600 ~/.kaggle/kaggle.json"
   ]
  },
  {
   "cell_type": "code",
   "execution_count": 3,
   "id": "c979d397-fe8a-4f2c-9e71-c2f51b7f5983",
   "metadata": {},
   "outputs": [
    {
     "name": "stdout",
     "output_type": "stream",
     "text": [
      "Path to dataset files: C:\\Users\\stuti\\.cache\\kagglehub\\datasets\\kazanova\\sentiment140\\versions\\2\n"
     ]
    }
   ],
   "source": [
    "# api fetch the dataset from kaggle\n",
    "import kagglehub\n",
    "\n",
    "# Download latest version\n",
    "path = kagglehub.dataset_download(\"kazanova/sentiment140\")\n",
    "\n",
    "print(\"Path to dataset files:\", path)"
   ]
  },
  {
   "cell_type": "code",
   "execution_count": 4,
   "id": "4573bb39-9b52-4821-b144-e99222bfbfee",
   "metadata": {},
   "outputs": [
    {
     "name": "stdout",
     "output_type": "stream",
     "text": [
      "File does not exist at the specified path.\n"
     ]
    }
   ],
   "source": [
    "#extracting the compressed dataset \n",
    "from zipfile import ZipFile\n",
    "import os\n",
    "\n",
    "dataset = '\"C:\\\\Users\\\\stuti\\\\.cache\\\\kagglehub\\\\datasets\\\\kazanova\\\\sentiment140\\\\versions\\\\2\\\\training.1600000.processed.noemoticon.csv\"'\n",
    "\n",
    "# Check if the file exists and is accessible\n",
    "if os.path.exists(dataset):\n",
    "    try:\n",
    "        with ZipFile(dataset, 'r') as zip:\n",
    "            zip.extractall()\n",
    "            print(\"The dataset is extracted\")\n",
    "    except PermissionError as e:\n",
    "        print(f\"PermissionError: {e}\")\n",
    "    except Exception as e:\n",
    "        print(f\"An error occurred: {e}\")\n",
    "else:\n",
    "    print(\"File does not exist at the specified path.\")\n"
   ]
  },
  {
   "cell_type": "code",
   "execution_count": 5,
   "id": "ce65d4e2-7c97-4654-8a7f-2bc41f6bfb7b",
   "metadata": {},
   "outputs": [],
   "source": [
    "#importing dependencies\n",
    "import numpy as np\n",
    "import pandas as pd\n",
    "import re \n",
    "from nltk.corpus import stopwords\n",
    "from nltk.stem.porter import PorterStemmer\n",
    "from sklearn.feature_extraction.text import TfidfVectorizer\n",
    "from sklearn.model_selection import train_test_split\n",
    "from sklearn.linear_model import LogisticRegression\n",
    "from sklearn.metrics import accuracy_score"
   ]
  },
  {
   "cell_type": "code",
   "execution_count": 6,
   "id": "037e87eb-75a5-4ee1-a411-f4b0a9fd48fc",
   "metadata": {},
   "outputs": [
    {
     "name": "stderr",
     "output_type": "stream",
     "text": [
      "[nltk_data] Downloading package stopwords to\n",
      "[nltk_data]     C:\\Users\\stuti\\AppData\\Roaming\\nltk_data...\n",
      "[nltk_data]   Package stopwords is already up-to-date!\n"
     ]
    },
    {
     "data": {
      "text/plain": [
       "True"
      ]
     },
     "execution_count": 6,
     "metadata": {},
     "output_type": "execute_result"
    }
   ],
   "source": [
    "import nltk \n",
    "nltk.download('stopwords')"
   ]
  },
  {
   "cell_type": "code",
   "execution_count": 7,
   "id": "cdfac086-5f82-4eeb-9e28-e66b14529b34",
   "metadata": {},
   "outputs": [
    {
     "name": "stdout",
     "output_type": "stream",
     "text": [
      "['i', 'me', 'my', 'myself', 'we', 'our', 'ours', 'ourselves', 'you', \"you're\", \"you've\", \"you'll\", \"you'd\", 'your', 'yours', 'yourself', 'yourselves', 'he', 'him', 'his', 'himself', 'she', \"she's\", 'her', 'hers', 'herself', 'it', \"it's\", 'its', 'itself', 'they', 'them', 'their', 'theirs', 'themselves', 'what', 'which', 'who', 'whom', 'this', 'that', \"that'll\", 'these', 'those', 'am', 'is', 'are', 'was', 'were', 'be', 'been', 'being', 'have', 'has', 'had', 'having', 'do', 'does', 'did', 'doing', 'a', 'an', 'the', 'and', 'but', 'if', 'or', 'because', 'as', 'until', 'while', 'of', 'at', 'by', 'for', 'with', 'about', 'against', 'between', 'into', 'through', 'during', 'before', 'after', 'above', 'below', 'to', 'from', 'up', 'down', 'in', 'out', 'on', 'off', 'over', 'under', 'again', 'further', 'then', 'once', 'here', 'there', 'when', 'where', 'why', 'how', 'all', 'any', 'both', 'each', 'few', 'more', 'most', 'other', 'some', 'such', 'no', 'nor', 'not', 'only', 'own', 'same', 'so', 'than', 'too', 'very', 's', 't', 'can', 'will', 'just', 'don', \"don't\", 'should', \"should've\", 'now', 'd', 'll', 'm', 'o', 're', 've', 'y', 'ain', 'aren', \"aren't\", 'couldn', \"couldn't\", 'didn', \"didn't\", 'doesn', \"doesn't\", 'hadn', \"hadn't\", 'hasn', \"hasn't\", 'haven', \"haven't\", 'isn', \"isn't\", 'ma', 'mightn', \"mightn't\", 'mustn', \"mustn't\", 'needn', \"needn't\", 'shan', \"shan't\", 'shouldn', \"shouldn't\", 'wasn', \"wasn't\", 'weren', \"weren't\", 'won', \"won't\", 'wouldn', \"wouldn't\"]\n"
     ]
    }
   ],
   "source": [
    "#printing stopwords in english words doesnt add any meaning infentual meaning or contexual meaning we simply remove them from dataset\n",
    "print(stopwords.words('english'))"
   ]
  },
  {
   "cell_type": "code",
   "execution_count": 8,
   "id": "ab7fc2a9-fd00-46ff-98fe-44c5606da9cc",
   "metadata": {},
   "outputs": [],
   "source": [
    "#data processing\n",
    "twitter_data=pd.read_csv(\"C:\\\\Users\\\\stuti\\\\.cache\\\\kagglehub\\\\datasets\\\\kazanova\\\\sentiment140\\\\versions\\\\2\\\\training.1600000.processed.noemoticon.csv\",encoding='ISO-8859-1')"
   ]
  },
  {
   "cell_type": "code",
   "execution_count": 9,
   "id": "f79100ca-49d2-4894-b180-efcbec36e970",
   "metadata": {},
   "outputs": [
    {
     "data": {
      "text/html": [
       "<div>\n",
       "<style scoped>\n",
       "    .dataframe tbody tr th:only-of-type {\n",
       "        vertical-align: middle;\n",
       "    }\n",
       "\n",
       "    .dataframe tbody tr th {\n",
       "        vertical-align: top;\n",
       "    }\n",
       "\n",
       "    .dataframe thead th {\n",
       "        text-align: right;\n",
       "    }\n",
       "</style>\n",
       "<table border=\"1\" class=\"dataframe\">\n",
       "  <thead>\n",
       "    <tr style=\"text-align: right;\">\n",
       "      <th></th>\n",
       "      <th>0</th>\n",
       "      <th>1467810369</th>\n",
       "      <th>Mon Apr 06 22:19:45 PDT 2009</th>\n",
       "      <th>NO_QUERY</th>\n",
       "      <th>_TheSpecialOne_</th>\n",
       "      <th>@switchfoot http://twitpic.com/2y1zl - Awww, that's a bummer.  You shoulda got David Carr of Third Day to do it. ;D</th>\n",
       "    </tr>\n",
       "  </thead>\n",
       "  <tbody>\n",
       "    <tr>\n",
       "      <th>0</th>\n",
       "      <td>0</td>\n",
       "      <td>1467810672</td>\n",
       "      <td>Mon Apr 06 22:19:49 PDT 2009</td>\n",
       "      <td>NO_QUERY</td>\n",
       "      <td>scotthamilton</td>\n",
       "      <td>is upset that he can't update his Facebook by ...</td>\n",
       "    </tr>\n",
       "    <tr>\n",
       "      <th>1</th>\n",
       "      <td>0</td>\n",
       "      <td>1467810917</td>\n",
       "      <td>Mon Apr 06 22:19:53 PDT 2009</td>\n",
       "      <td>NO_QUERY</td>\n",
       "      <td>mattycus</td>\n",
       "      <td>@Kenichan I dived many times for the ball. Man...</td>\n",
       "    </tr>\n",
       "    <tr>\n",
       "      <th>2</th>\n",
       "      <td>0</td>\n",
       "      <td>1467811184</td>\n",
       "      <td>Mon Apr 06 22:19:57 PDT 2009</td>\n",
       "      <td>NO_QUERY</td>\n",
       "      <td>ElleCTF</td>\n",
       "      <td>my whole body feels itchy and like its on fire</td>\n",
       "    </tr>\n",
       "    <tr>\n",
       "      <th>3</th>\n",
       "      <td>0</td>\n",
       "      <td>1467811193</td>\n",
       "      <td>Mon Apr 06 22:19:57 PDT 2009</td>\n",
       "      <td>NO_QUERY</td>\n",
       "      <td>Karoli</td>\n",
       "      <td>@nationwideclass no, it's not behaving at all....</td>\n",
       "    </tr>\n",
       "    <tr>\n",
       "      <th>4</th>\n",
       "      <td>0</td>\n",
       "      <td>1467811372</td>\n",
       "      <td>Mon Apr 06 22:20:00 PDT 2009</td>\n",
       "      <td>NO_QUERY</td>\n",
       "      <td>joy_wolf</td>\n",
       "      <td>@Kwesidei not the whole crew</td>\n",
       "    </tr>\n",
       "  </tbody>\n",
       "</table>\n",
       "</div>"
      ],
      "text/plain": [
       "   0  1467810369  Mon Apr 06 22:19:45 PDT 2009  NO_QUERY _TheSpecialOne_  \\\n",
       "0  0  1467810672  Mon Apr 06 22:19:49 PDT 2009  NO_QUERY   scotthamilton   \n",
       "1  0  1467810917  Mon Apr 06 22:19:53 PDT 2009  NO_QUERY        mattycus   \n",
       "2  0  1467811184  Mon Apr 06 22:19:57 PDT 2009  NO_QUERY         ElleCTF   \n",
       "3  0  1467811193  Mon Apr 06 22:19:57 PDT 2009  NO_QUERY          Karoli   \n",
       "4  0  1467811372  Mon Apr 06 22:20:00 PDT 2009  NO_QUERY        joy_wolf   \n",
       "\n",
       "  @switchfoot http://twitpic.com/2y1zl - Awww, that's a bummer.  You shoulda got David Carr of Third Day to do it. ;D  \n",
       "0  is upset that he can't update his Facebook by ...                                                                   \n",
       "1  @Kenichan I dived many times for the ball. Man...                                                                   \n",
       "2    my whole body feels itchy and like its on fire                                                                    \n",
       "3  @nationwideclass no, it's not behaving at all....                                                                   \n",
       "4                      @Kwesidei not the whole crew                                                                    "
      ]
     },
     "execution_count": 9,
     "metadata": {},
     "output_type": "execute_result"
    }
   ],
   "source": [
    "twitter_data.shape\n",
    "twitter_data.head()"
   ]
  },
  {
   "cell_type": "code",
   "execution_count": 10,
   "id": "29b997f7-6217-4efb-b6ea-7073aac634f8",
   "metadata": {},
   "outputs": [],
   "source": [
    "#for reading column name we've named column \n",
    "column_names=['target','id','date','flag','user','text']\n",
    "twitter_data=pd.read_csv(\"C:\\\\Users\\\\stuti\\\\.cache\\\\kagglehub\\\\datasets\\\\kazanova\\\\sentiment140\\\\versions\\\\2\\\\training.1600000.processed.noemoticon.csv\",names=column_names,encoding='ISO-8859-1')"
   ]
  },
  {
   "cell_type": "code",
   "execution_count": 11,
   "id": "cac40e10-8697-4f7d-91e8-170124c70b7b",
   "metadata": {},
   "outputs": [
    {
     "data": {
      "text/html": [
       "<div>\n",
       "<style scoped>\n",
       "    .dataframe tbody tr th:only-of-type {\n",
       "        vertical-align: middle;\n",
       "    }\n",
       "\n",
       "    .dataframe tbody tr th {\n",
       "        vertical-align: top;\n",
       "    }\n",
       "\n",
       "    .dataframe thead th {\n",
       "        text-align: right;\n",
       "    }\n",
       "</style>\n",
       "<table border=\"1\" class=\"dataframe\">\n",
       "  <thead>\n",
       "    <tr style=\"text-align: right;\">\n",
       "      <th></th>\n",
       "      <th>target</th>\n",
       "      <th>id</th>\n",
       "      <th>date</th>\n",
       "      <th>flag</th>\n",
       "      <th>user</th>\n",
       "      <th>text</th>\n",
       "    </tr>\n",
       "  </thead>\n",
       "  <tbody>\n",
       "    <tr>\n",
       "      <th>0</th>\n",
       "      <td>0</td>\n",
       "      <td>1467810369</td>\n",
       "      <td>Mon Apr 06 22:19:45 PDT 2009</td>\n",
       "      <td>NO_QUERY</td>\n",
       "      <td>_TheSpecialOne_</td>\n",
       "      <td>@switchfoot http://twitpic.com/2y1zl - Awww, t...</td>\n",
       "    </tr>\n",
       "    <tr>\n",
       "      <th>1</th>\n",
       "      <td>0</td>\n",
       "      <td>1467810672</td>\n",
       "      <td>Mon Apr 06 22:19:49 PDT 2009</td>\n",
       "      <td>NO_QUERY</td>\n",
       "      <td>scotthamilton</td>\n",
       "      <td>is upset that he can't update his Facebook by ...</td>\n",
       "    </tr>\n",
       "    <tr>\n",
       "      <th>2</th>\n",
       "      <td>0</td>\n",
       "      <td>1467810917</td>\n",
       "      <td>Mon Apr 06 22:19:53 PDT 2009</td>\n",
       "      <td>NO_QUERY</td>\n",
       "      <td>mattycus</td>\n",
       "      <td>@Kenichan I dived many times for the ball. Man...</td>\n",
       "    </tr>\n",
       "    <tr>\n",
       "      <th>3</th>\n",
       "      <td>0</td>\n",
       "      <td>1467811184</td>\n",
       "      <td>Mon Apr 06 22:19:57 PDT 2009</td>\n",
       "      <td>NO_QUERY</td>\n",
       "      <td>ElleCTF</td>\n",
       "      <td>my whole body feels itchy and like its on fire</td>\n",
       "    </tr>\n",
       "    <tr>\n",
       "      <th>4</th>\n",
       "      <td>0</td>\n",
       "      <td>1467811193</td>\n",
       "      <td>Mon Apr 06 22:19:57 PDT 2009</td>\n",
       "      <td>NO_QUERY</td>\n",
       "      <td>Karoli</td>\n",
       "      <td>@nationwideclass no, it's not behaving at all....</td>\n",
       "    </tr>\n",
       "  </tbody>\n",
       "</table>\n",
       "</div>"
      ],
      "text/plain": [
       "   target          id                          date      flag  \\\n",
       "0       0  1467810369  Mon Apr 06 22:19:45 PDT 2009  NO_QUERY   \n",
       "1       0  1467810672  Mon Apr 06 22:19:49 PDT 2009  NO_QUERY   \n",
       "2       0  1467810917  Mon Apr 06 22:19:53 PDT 2009  NO_QUERY   \n",
       "3       0  1467811184  Mon Apr 06 22:19:57 PDT 2009  NO_QUERY   \n",
       "4       0  1467811193  Mon Apr 06 22:19:57 PDT 2009  NO_QUERY   \n",
       "\n",
       "              user                                               text  \n",
       "0  _TheSpecialOne_  @switchfoot http://twitpic.com/2y1zl - Awww, t...  \n",
       "1    scotthamilton  is upset that he can't update his Facebook by ...  \n",
       "2         mattycus  @Kenichan I dived many times for the ball. Man...  \n",
       "3          ElleCTF    my whole body feels itchy and like its on fire   \n",
       "4           Karoli  @nationwideclass no, it's not behaving at all....  "
      ]
     },
     "execution_count": 11,
     "metadata": {},
     "output_type": "execute_result"
    }
   ],
   "source": [
    "twitter_data.head()"
   ]
  },
  {
   "cell_type": "code",
   "execution_count": 12,
   "id": "6e96bbc0-1958-43fe-98a7-dd33d11493aa",
   "metadata": {},
   "outputs": [
    {
     "data": {
      "text/plain": [
       "target    0\n",
       "id        0\n",
       "date      0\n",
       "flag      0\n",
       "user      0\n",
       "text      0\n",
       "dtype: int64"
      ]
     },
     "execution_count": 12,
     "metadata": {},
     "output_type": "execute_result"
    }
   ],
   "source": [
    "twitter_data.isnull().sum()"
   ]
  },
  {
   "cell_type": "code",
   "execution_count": 13,
   "id": "bb85da77-bedb-455f-9149-d0174d22e0a5",
   "metadata": {},
   "outputs": [
    {
     "data": {
      "text/plain": [
       "target\n",
       "0    800000\n",
       "4    800000\n",
       "Name: count, dtype: int64"
      ]
     },
     "execution_count": 13,
     "metadata": {},
     "output_type": "execute_result"
    }
   ],
   "source": [
    "#checking the distribution of target column\n",
    "twitter_data['target'].value_counts()"
   ]
  },
  {
   "cell_type": "code",
   "execution_count": 14,
   "id": "e183fcdc-f430-4ba8-bc4f-52cfd9198331",
   "metadata": {},
   "outputs": [],
   "source": [
    "#as there are two label 0=-ve and 4=+ve we are converting 4 as 1\n",
    "twitter_data.replace({'target':{4:1}},inplace=True)"
   ]
  },
  {
   "cell_type": "code",
   "execution_count": 15,
   "id": "8b0d75be-a433-449f-8d93-7ff5c8b3b4d3",
   "metadata": {},
   "outputs": [
    {
     "data": {
      "text/plain": [
       "target\n",
       "0    800000\n",
       "1    800000\n",
       "Name: count, dtype: int64"
      ]
     },
     "execution_count": 15,
     "metadata": {},
     "output_type": "execute_result"
    }
   ],
   "source": [
    "twitter_data['target'].value_counts()"
   ]
  },
  {
   "cell_type": "code",
   "execution_count": 16,
   "id": "a5f41e59-6bb8-4b9e-9274-b5ff32e61873",
   "metadata": {},
   "outputs": [],
   "source": [
    "#stemming is the process to reduce the word into the root word example : actress,actor,acting root words : act\n",
    "port_stem=PorterStemmer()"
   ]
  },
  {
   "cell_type": "code",
   "execution_count": 17,
   "id": "1a1c0e47-ed19-4c2d-bf8e-e6bf8313def4",
   "metadata": {},
   "outputs": [],
   "source": [
    "#only taking alphabets and removing other than that like @,#,puntuatuions and than we converting upper case into lower case than we split the word and putting in the list \n",
    "#then we are removing stop word \n",
    "def stemming(content):\n",
    "\n",
    "    stemmed_content=re.sub('[^a-zA-Z]',' ',content)\n",
    "    stemmed_content=stemmed_content.lower()\n",
    "    stemmed_content=stemmed_content.split()\n",
    "    stemmed_content=[port_stem.stem(word) for word in stemmed_content if not word in stopwords.words('english')]\n",
    "    stemmed_content=' '.join(stemmed_content)\n",
    "    \n",
    "    return stemmed_content"
   ]
  },
  {
   "cell_type": "code",
   "execution_count": 18,
   "id": "8928d3e4-f535-459e-9a64-4f8a6aba5731",
   "metadata": {},
   "outputs": [],
   "source": [
    "positive_tweets=twitter_data[twitter_data['target']==1]\n",
    "negative_tweets=twitter_data[twitter_data['target']==0]\n",
    "target_size=80000\n",
    "positive_samples=positive_tweets.sample(n=target_size,random_state=42)\n",
    "negative_samples=negative_tweets.sample(n=target_size,random_state=42)\n",
    "\n",
    "balanced_data=pd.concat([positive_samples,negative_samples])"
   ]
  },
  {
   "cell_type": "code",
   "execution_count": 19,
   "id": "0128e888-cde6-4c51-a48c-ca2e676c442c",
   "metadata": {},
   "outputs": [
    {
     "data": {
      "text/html": [
       "<div>\n",
       "<style scoped>\n",
       "    .dataframe tbody tr th:only-of-type {\n",
       "        vertical-align: middle;\n",
       "    }\n",
       "\n",
       "    .dataframe tbody tr th {\n",
       "        vertical-align: top;\n",
       "    }\n",
       "\n",
       "    .dataframe thead th {\n",
       "        text-align: right;\n",
       "    }\n",
       "</style>\n",
       "<table border=\"1\" class=\"dataframe\">\n",
       "  <thead>\n",
       "    <tr style=\"text-align: right;\">\n",
       "      <th></th>\n",
       "      <th>target</th>\n",
       "      <th>id</th>\n",
       "      <th>date</th>\n",
       "      <th>flag</th>\n",
       "      <th>user</th>\n",
       "      <th>text</th>\n",
       "    </tr>\n",
       "  </thead>\n",
       "  <tbody>\n",
       "    <tr>\n",
       "      <th>1012188</th>\n",
       "      <td>1</td>\n",
       "      <td>1881179620</td>\n",
       "      <td>Fri May 22 03:51:54 PDT 2009</td>\n",
       "      <td>NO_QUERY</td>\n",
       "      <td>tarawade</td>\n",
       "      <td>Is lookin 4ward to a long weekend  really dont...</td>\n",
       "    </tr>\n",
       "    <tr>\n",
       "      <th>1099036</th>\n",
       "      <td>1</td>\n",
       "      <td>1970537555</td>\n",
       "      <td>Sat May 30 04:15:49 PDT 2009</td>\n",
       "      <td>NO_QUERY</td>\n",
       "      <td>Millie_stillie</td>\n",
       "      <td>#myweakness  Is music and i live to meet the p...</td>\n",
       "    </tr>\n",
       "    <tr>\n",
       "      <th>1275978</th>\n",
       "      <td>1</td>\n",
       "      <td>2001154935</td>\n",
       "      <td>Tue Jun 02 00:00:21 PDT 2009</td>\n",
       "      <td>NO_QUERY</td>\n",
       "      <td>zsangel</td>\n",
       "      <td>figured out the Internet on my new iPod</td>\n",
       "    </tr>\n",
       "    <tr>\n",
       "      <th>1388988</th>\n",
       "      <td>1</td>\n",
       "      <td>2053074174</td>\n",
       "      <td>Sat Jun 06 03:10:08 PDT 2009</td>\n",
       "      <td>NO_QUERY</td>\n",
       "      <td>krisignacio</td>\n",
       "      <td>@hillsongunited can't wait to worship with you...</td>\n",
       "    </tr>\n",
       "    <tr>\n",
       "      <th>938859</th>\n",
       "      <td>1</td>\n",
       "      <td>1793548492</td>\n",
       "      <td>Thu May 14 03:06:55 PDT 2009</td>\n",
       "      <td>NO_QUERY</td>\n",
       "      <td>_DrInE_</td>\n",
       "      <td>@sillybeggar Congrats James !! I'm sure the bo...</td>\n",
       "    </tr>\n",
       "  </tbody>\n",
       "</table>\n",
       "</div>"
      ],
      "text/plain": [
       "         target          id                          date      flag  \\\n",
       "1012188       1  1881179620  Fri May 22 03:51:54 PDT 2009  NO_QUERY   \n",
       "1099036       1  1970537555  Sat May 30 04:15:49 PDT 2009  NO_QUERY   \n",
       "1275978       1  2001154935  Tue Jun 02 00:00:21 PDT 2009  NO_QUERY   \n",
       "1388988       1  2053074174  Sat Jun 06 03:10:08 PDT 2009  NO_QUERY   \n",
       "938859        1  1793548492  Thu May 14 03:06:55 PDT 2009  NO_QUERY   \n",
       "\n",
       "                   user                                               text  \n",
       "1012188        tarawade  Is lookin 4ward to a long weekend  really dont...  \n",
       "1099036  Millie_stillie  #myweakness  Is music and i live to meet the p...  \n",
       "1275978         zsangel           figured out the Internet on my new iPod   \n",
       "1388988     krisignacio  @hillsongunited can't wait to worship with you...  \n",
       "938859          _DrInE_  @sillybeggar Congrats James !! I'm sure the bo...  "
      ]
     },
     "execution_count": 19,
     "metadata": {},
     "output_type": "execute_result"
    }
   ],
   "source": [
    "balanced_data.head()"
   ]
  },
  {
   "cell_type": "code",
   "execution_count": 20,
   "id": "ce750ded-d54f-4228-8140-573249163669",
   "metadata": {},
   "outputs": [],
   "source": [
    "balanced_data['stemmed_content']=balanced_data['text'].apply(stemming)"
   ]
  },
  {
   "cell_type": "code",
   "execution_count": 21,
   "id": "ae020d06-d624-4ef6-831f-98d8bbb7a43b",
   "metadata": {},
   "outputs": [
    {
     "data": {
      "text/html": [
       "<div>\n",
       "<style scoped>\n",
       "    .dataframe tbody tr th:only-of-type {\n",
       "        vertical-align: middle;\n",
       "    }\n",
       "\n",
       "    .dataframe tbody tr th {\n",
       "        vertical-align: top;\n",
       "    }\n",
       "\n",
       "    .dataframe thead th {\n",
       "        text-align: right;\n",
       "    }\n",
       "</style>\n",
       "<table border=\"1\" class=\"dataframe\">\n",
       "  <thead>\n",
       "    <tr style=\"text-align: right;\">\n",
       "      <th></th>\n",
       "      <th>target</th>\n",
       "      <th>id</th>\n",
       "      <th>date</th>\n",
       "      <th>flag</th>\n",
       "      <th>user</th>\n",
       "      <th>text</th>\n",
       "      <th>stemmed_content</th>\n",
       "    </tr>\n",
       "  </thead>\n",
       "  <tbody>\n",
       "    <tr>\n",
       "      <th>1012188</th>\n",
       "      <td>1</td>\n",
       "      <td>1881179620</td>\n",
       "      <td>Fri May 22 03:51:54 PDT 2009</td>\n",
       "      <td>NO_QUERY</td>\n",
       "      <td>tarawade</td>\n",
       "      <td>Is lookin 4ward to a long weekend  really dont...</td>\n",
       "      <td>lookin ward long weekend realli dont want go w...</td>\n",
       "    </tr>\n",
       "    <tr>\n",
       "      <th>1099036</th>\n",
       "      <td>1</td>\n",
       "      <td>1970537555</td>\n",
       "      <td>Sat May 30 04:15:49 PDT 2009</td>\n",
       "      <td>NO_QUERY</td>\n",
       "      <td>Millie_stillie</td>\n",
       "      <td>#myweakness  Is music and i live to meet the p...</td>\n",
       "      <td>myweak music live meet peopl make</td>\n",
       "    </tr>\n",
       "    <tr>\n",
       "      <th>1275978</th>\n",
       "      <td>1</td>\n",
       "      <td>2001154935</td>\n",
       "      <td>Tue Jun 02 00:00:21 PDT 2009</td>\n",
       "      <td>NO_QUERY</td>\n",
       "      <td>zsangel</td>\n",
       "      <td>figured out the Internet on my new iPod</td>\n",
       "      <td>figur internet new ipod</td>\n",
       "    </tr>\n",
       "    <tr>\n",
       "      <th>1388988</th>\n",
       "      <td>1</td>\n",
       "      <td>2053074174</td>\n",
       "      <td>Sat Jun 06 03:10:08 PDT 2009</td>\n",
       "      <td>NO_QUERY</td>\n",
       "      <td>krisignacio</td>\n",
       "      <td>@hillsongunited can't wait to worship with you...</td>\n",
       "      <td>hillsongunit wait worship guy tonight much fun</td>\n",
       "    </tr>\n",
       "    <tr>\n",
       "      <th>938859</th>\n",
       "      <td>1</td>\n",
       "      <td>1793548492</td>\n",
       "      <td>Thu May 14 03:06:55 PDT 2009</td>\n",
       "      <td>NO_QUERY</td>\n",
       "      <td>_DrInE_</td>\n",
       "      <td>@sillybeggar Congrats James !! I'm sure the bo...</td>\n",
       "      <td>sillybeggar congrat jame sure book go huge suc...</td>\n",
       "    </tr>\n",
       "  </tbody>\n",
       "</table>\n",
       "</div>"
      ],
      "text/plain": [
       "         target          id                          date      flag  \\\n",
       "1012188       1  1881179620  Fri May 22 03:51:54 PDT 2009  NO_QUERY   \n",
       "1099036       1  1970537555  Sat May 30 04:15:49 PDT 2009  NO_QUERY   \n",
       "1275978       1  2001154935  Tue Jun 02 00:00:21 PDT 2009  NO_QUERY   \n",
       "1388988       1  2053074174  Sat Jun 06 03:10:08 PDT 2009  NO_QUERY   \n",
       "938859        1  1793548492  Thu May 14 03:06:55 PDT 2009  NO_QUERY   \n",
       "\n",
       "                   user                                               text  \\\n",
       "1012188        tarawade  Is lookin 4ward to a long weekend  really dont...   \n",
       "1099036  Millie_stillie  #myweakness  Is music and i live to meet the p...   \n",
       "1275978         zsangel           figured out the Internet on my new iPod    \n",
       "1388988     krisignacio  @hillsongunited can't wait to worship with you...   \n",
       "938859          _DrInE_  @sillybeggar Congrats James !! I'm sure the bo...   \n",
       "\n",
       "                                           stemmed_content  \n",
       "1012188  lookin ward long weekend realli dont want go w...  \n",
       "1099036                  myweak music live meet peopl make  \n",
       "1275978                            figur internet new ipod  \n",
       "1388988     hillsongunit wait worship guy tonight much fun  \n",
       "938859   sillybeggar congrat jame sure book go huge suc...  "
      ]
     },
     "execution_count": 21,
     "metadata": {},
     "output_type": "execute_result"
    }
   ],
   "source": [
    "balanced_data.head()"
   ]
  },
  {
   "cell_type": "code",
   "execution_count": 22,
   "id": "2e28dc3e-5da2-4908-bf39-cbef23677cf5",
   "metadata": {},
   "outputs": [
    {
     "name": "stdout",
     "output_type": "stream",
     "text": [
      "1012188    1\n",
      "1099036    1\n",
      "1275978    1\n",
      "1388988    1\n",
      "938859     1\n",
      "          ..\n",
      "665399     0\n",
      "519342     0\n",
      "608526     0\n",
      "339887     0\n",
      "225989     0\n",
      "Name: target, Length: 160000, dtype: int64\n"
     ]
    }
   ],
   "source": [
    "balanced_data.shape\n",
    "print(balanced_data['target'])"
   ]
  },
  {
   "cell_type": "code",
   "execution_count": 23,
   "id": "0ff00a7d-deba-4e4b-a68b-507dba37824a",
   "metadata": {},
   "outputs": [],
   "source": [
    "#removing unwanted columns\n",
    "x=balanced_data['stemmed_content'].values\n",
    "y=balanced_data['target'].values"
   ]
  },
  {
   "cell_type": "code",
   "execution_count": 24,
   "id": "d587f50d-ecfc-4b16-b411-818de4e97188",
   "metadata": {},
   "outputs": [],
   "source": [
    "x_train,x_test,y_train,y_test=train_test_split(x,y,test_size=0.2,stratify=y,random_state=2)"
   ]
  },
  {
   "cell_type": "code",
   "execution_count": 25,
   "id": "a5c45e56-5db0-474a-8e94-e32d6c68e0df",
   "metadata": {},
   "outputs": [
    {
     "name": "stdout",
     "output_type": "stream",
     "text": [
      "(160000,) (128000,) (32000,)\n"
     ]
    }
   ],
   "source": [
    "print(x.shape,x_train.shape,x_test.shape)"
   ]
  },
  {
   "cell_type": "code",
   "execution_count": 26,
   "id": "7e67fc6e-9407-41e1-b83c-fbbc44d843df",
   "metadata": {},
   "outputs": [],
   "source": [
    "#converting textual data into numerical data\n",
    "vectorizer=TfidfVectorizer()\n",
    "\n",
    "x_train=vectorizer.fit_transform(x_train)\n",
    "x_test=vectorizer.transform(x_test)"
   ]
  },
  {
   "cell_type": "code",
   "execution_count": 27,
   "id": "4fb19445-d72d-457e-bc44-94a7cbd27085",
   "metadata": {},
   "outputs": [
    {
     "name": "stdout",
     "output_type": "stream",
     "text": [
      "  (0, 81327)\t0.2064357446294021\n",
      "  (0, 56313)\t0.2939849571420396\n",
      "  (0, 28596)\t0.2467985457828237\n",
      "  (0, 80941)\t0.28503489142118676\n",
      "  (0, 1853)\t0.3361684716114074\n",
      "  (0, 22111)\t0.3401242752866553\n",
      "  (0, 30799)\t0.16963179349613203\n",
      "  (0, 76206)\t0.27835187563749764\n",
      "  (0, 47811)\t0.28389699503799326\n",
      "  (0, 45639)\t0.5596934312759454\n",
      "  (1, 27805)\t0.6523062177690552\n",
      "  (1, 48689)\t0.7579555384452509\n",
      "  (2, 15785)\t0.3574230626469405\n",
      "  (2, 79984)\t0.19177867841384083\n",
      "  (2, 77377)\t0.29518660770237726\n",
      "  (2, 50542)\t0.23052646223539283\n",
      "  (2, 72475)\t0.16460795492389516\n",
      "  (2, 46935)\t0.2010466851435451\n",
      "  (2, 40400)\t0.331922303044777\n",
      "  (2, 56043)\t0.17620110402432185\n",
      "  (2, 13941)\t0.26373909196614265\n",
      "  (2, 64815)\t0.22784380047893701\n",
      "  (2, 65765)\t0.38859499792294777\n",
      "  (2, 55303)\t0.44392973373945255\n",
      "  (2, 30799)\t0.13002511269142272\n",
      "  :\t:\n",
      "  (127996, 84691)\t0.3942880463315301\n",
      "  (127997, 88592)\t0.5641114622868479\n",
      "  (127997, 37650)\t0.82569864848902\n",
      "  (127998, 31832)\t0.38621562143929816\n",
      "  (127998, 35121)\t0.3690481836011409\n",
      "  (127998, 62266)\t0.30498477647248345\n",
      "  (127998, 16155)\t0.3995698678501317\n",
      "  (127998, 85585)\t0.27014989520716504\n",
      "  (127998, 67852)\t0.31195965936900616\n",
      "  (127998, 46646)\t0.2665771663573286\n",
      "  (127998, 83958)\t0.31195965936900616\n",
      "  (127998, 34828)\t0.21028179922001994\n",
      "  (127998, 70708)\t0.2254342847227639\n",
      "  (127998, 19186)\t0.16807164335705782\n",
      "  (127999, 76736)\t0.4594638994245539\n",
      "  (127999, 54335)\t0.4594638994245539\n",
      "  (127999, 65493)\t0.37797620762837686\n",
      "  (127999, 7922)\t0.31580778925931907\n",
      "  (127999, 27023)\t0.2636838332010759\n",
      "  (127999, 22471)\t0.2656252195194042\n",
      "  (127999, 92142)\t0.20961141228091398\n",
      "  (127999, 63511)\t0.21790680066488965\n",
      "  (127999, 3836)\t0.21633368124748895\n",
      "  (127999, 60641)\t0.16637919937219312\n",
      "  (127999, 82344)\t0.17087053070850042\n"
     ]
    }
   ],
   "source": [
    "print(x_train)"
   ]
  },
  {
   "cell_type": "code",
   "execution_count": 28,
   "id": "f062ff3c-56e6-4892-8818-31382774d115",
   "metadata": {},
   "outputs": [],
   "source": [
    "#training ml model logistic regression\n",
    "model=LogisticRegression(max_iter=1000)"
   ]
  },
  {
   "cell_type": "code",
   "execution_count": 29,
   "id": "51259029-d250-4e46-98b0-0d77031600ac",
   "metadata": {},
   "outputs": [
    {
     "data": {
      "text/html": [
       "<style>#sk-container-id-1 {color: black;background-color: white;}#sk-container-id-1 pre{padding: 0;}#sk-container-id-1 div.sk-toggleable {background-color: white;}#sk-container-id-1 label.sk-toggleable__label {cursor: pointer;display: block;width: 100%;margin-bottom: 0;padding: 0.3em;box-sizing: border-box;text-align: center;}#sk-container-id-1 label.sk-toggleable__label-arrow:before {content: \"▸\";float: left;margin-right: 0.25em;color: #696969;}#sk-container-id-1 label.sk-toggleable__label-arrow:hover:before {color: black;}#sk-container-id-1 div.sk-estimator:hover label.sk-toggleable__label-arrow:before {color: black;}#sk-container-id-1 div.sk-toggleable__content {max-height: 0;max-width: 0;overflow: hidden;text-align: left;background-color: #f0f8ff;}#sk-container-id-1 div.sk-toggleable__content pre {margin: 0.2em;color: black;border-radius: 0.25em;background-color: #f0f8ff;}#sk-container-id-1 input.sk-toggleable__control:checked~div.sk-toggleable__content {max-height: 200px;max-width: 100%;overflow: auto;}#sk-container-id-1 input.sk-toggleable__control:checked~label.sk-toggleable__label-arrow:before {content: \"▾\";}#sk-container-id-1 div.sk-estimator input.sk-toggleable__control:checked~label.sk-toggleable__label {background-color: #d4ebff;}#sk-container-id-1 div.sk-label input.sk-toggleable__control:checked~label.sk-toggleable__label {background-color: #d4ebff;}#sk-container-id-1 input.sk-hidden--visually {border: 0;clip: rect(1px 1px 1px 1px);clip: rect(1px, 1px, 1px, 1px);height: 1px;margin: -1px;overflow: hidden;padding: 0;position: absolute;width: 1px;}#sk-container-id-1 div.sk-estimator {font-family: monospace;background-color: #f0f8ff;border: 1px dotted black;border-radius: 0.25em;box-sizing: border-box;margin-bottom: 0.5em;}#sk-container-id-1 div.sk-estimator:hover {background-color: #d4ebff;}#sk-container-id-1 div.sk-parallel-item::after {content: \"\";width: 100%;border-bottom: 1px solid gray;flex-grow: 1;}#sk-container-id-1 div.sk-label:hover label.sk-toggleable__label {background-color: #d4ebff;}#sk-container-id-1 div.sk-serial::before {content: \"\";position: absolute;border-left: 1px solid gray;box-sizing: border-box;top: 0;bottom: 0;left: 50%;z-index: 0;}#sk-container-id-1 div.sk-serial {display: flex;flex-direction: column;align-items: center;background-color: white;padding-right: 0.2em;padding-left: 0.2em;position: relative;}#sk-container-id-1 div.sk-item {position: relative;z-index: 1;}#sk-container-id-1 div.sk-parallel {display: flex;align-items: stretch;justify-content: center;background-color: white;position: relative;}#sk-container-id-1 div.sk-item::before, #sk-container-id-1 div.sk-parallel-item::before {content: \"\";position: absolute;border-left: 1px solid gray;box-sizing: border-box;top: 0;bottom: 0;left: 50%;z-index: -1;}#sk-container-id-1 div.sk-parallel-item {display: flex;flex-direction: column;z-index: 1;position: relative;background-color: white;}#sk-container-id-1 div.sk-parallel-item:first-child::after {align-self: flex-end;width: 50%;}#sk-container-id-1 div.sk-parallel-item:last-child::after {align-self: flex-start;width: 50%;}#sk-container-id-1 div.sk-parallel-item:only-child::after {width: 0;}#sk-container-id-1 div.sk-dashed-wrapped {border: 1px dashed gray;margin: 0 0.4em 0.5em 0.4em;box-sizing: border-box;padding-bottom: 0.4em;background-color: white;}#sk-container-id-1 div.sk-label label {font-family: monospace;font-weight: bold;display: inline-block;line-height: 1.2em;}#sk-container-id-1 div.sk-label-container {text-align: center;}#sk-container-id-1 div.sk-container {/* jupyter's `normalize.less` sets `[hidden] { display: none; }` but bootstrap.min.css set `[hidden] { display: none !important; }` so we also need the `!important` here to be able to override the default hidden behavior on the sphinx rendered scikit-learn.org. See: https://github.com/scikit-learn/scikit-learn/issues/21755 */display: inline-block !important;position: relative;}#sk-container-id-1 div.sk-text-repr-fallback {display: none;}</style><div id=\"sk-container-id-1\" class=\"sk-top-container\"><div class=\"sk-text-repr-fallback\"><pre>LogisticRegression(max_iter=1000)</pre><b>In a Jupyter environment, please rerun this cell to show the HTML representation or trust the notebook. <br />On GitHub, the HTML representation is unable to render, please try loading this page with nbviewer.org.</b></div><div class=\"sk-container\" hidden><div class=\"sk-item\"><div class=\"sk-estimator sk-toggleable\"><input class=\"sk-toggleable__control sk-hidden--visually\" id=\"sk-estimator-id-1\" type=\"checkbox\" checked><label for=\"sk-estimator-id-1\" class=\"sk-toggleable__label sk-toggleable__label-arrow\">LogisticRegression</label><div class=\"sk-toggleable__content\"><pre>LogisticRegression(max_iter=1000)</pre></div></div></div></div></div>"
      ],
      "text/plain": [
       "LogisticRegression(max_iter=1000)"
      ]
     },
     "execution_count": 29,
     "metadata": {},
     "output_type": "execute_result"
    }
   ],
   "source": [
    "model.fit(x_train,y_train)"
   ]
  },
  {
   "cell_type": "code",
   "execution_count": 30,
   "id": "bdd07b99-4d13-4c78-9bc5-abd97d35a32c",
   "metadata": {},
   "outputs": [],
   "source": [
    "x_train_prediction=model.predict(x_train)\n",
    "training_acc=accuracy_score(y_train,x_train_prediction)"
   ]
  },
  {
   "cell_type": "code",
   "execution_count": 31,
   "id": "66124309-a1fe-4445-94b3-df19956685ad",
   "metadata": {},
   "outputs": [
    {
     "name": "stdout",
     "output_type": "stream",
     "text": [
      "82.11484375\n"
     ]
    }
   ],
   "source": [
    "print(training_acc*100)"
   ]
  },
  {
   "cell_type": "code",
   "execution_count": 32,
   "id": "8898e251-b187-49e0-b59c-2cd660e76510",
   "metadata": {},
   "outputs": [],
   "source": [
    "x_test_prediction=model.predict(x_test)\n",
    "test_data_acc=accuracy_score(y_test,x_test_prediction)\n"
   ]
  },
  {
   "cell_type": "code",
   "execution_count": 33,
   "id": "581cd0b7-e1da-4fe9-a389-c8a6a5b52e5e",
   "metadata": {},
   "outputs": [
    {
     "name": "stdout",
     "output_type": "stream",
     "text": [
      "76.278125\n"
     ]
    }
   ],
   "source": [
    "print(test_data_acc*100)"
   ]
  },
  {
   "cell_type": "code",
   "execution_count": 34,
   "id": "212a8bab-f4bb-4884-b0cb-c4b19751a4aa",
   "metadata": {},
   "outputs": [],
   "source": [
    "#saving trained model\n",
    "import pickle"
   ]
  },
  {
   "cell_type": "code",
   "execution_count": 35,
   "id": "e69a7093-8370-4c6f-bcff-0ce2fa270aed",
   "metadata": {},
   "outputs": [],
   "source": [
    "filename='trained_model.sav'"
   ]
  },
  {
   "cell_type": "code",
   "execution_count": 36,
   "id": "c0f10aea-1796-40a6-a198-21b9bb30f0ce",
   "metadata": {},
   "outputs": [],
   "source": [
    "pickle.dump(model,open(filename,'wb'))"
   ]
  },
  {
   "cell_type": "code",
   "execution_count": 37,
   "id": "5e1a7f60-c861-4b09-a6f2-824fe7f59d70",
   "metadata": {},
   "outputs": [],
   "source": [
    "#using trained model\n",
    "loaded_model=pickle.load(open(\"C:\\\\Users\\\\stuti\\\\Downloads\\\\sentimental_analysis\\\\trained_model.sav\",'rb'))"
   ]
  },
  {
   "cell_type": "code",
   "execution_count": 48,
   "id": "c00d38a8-50ee-47e1-baab-29df3c37733f",
   "metadata": {},
   "outputs": [
    {
     "name": "stdout",
     "output_type": "stream",
     "text": [
      "0\n",
      "[0]\n",
      "-ve tweet\n"
     ]
    }
   ],
   "source": [
    "x_new=x_test[31]\n",
    "print(y_test[31])\n",
    "\n",
    "\n",
    "prediction=loaded_model.predict(x_new)\n",
    "print(prediction)\n",
    "\n",
    "if(prediction[0]==0):\n",
    "    print(\"-ve tweet\")\n",
    "else:\n",
    "    print(\"+ve tweet\")"
   ]
  },
  {
   "cell_type": "code",
   "execution_count": 50,
   "id": "bb116765-01ad-45d8-a4f8-4abd0e6d25d3",
   "metadata": {},
   "outputs": [],
   "source": [
    "pickle.dump(vectorizer,open('vectorizer.pkl','wb'))\n",
    "pickle.dump(model,open('model.pkl','wb'))"
   ]
  },
  {
   "cell_type": "code",
   "execution_count": 60,
   "id": "5afef022-bb03-40b2-91da-9693b4b91f5c",
   "metadata": {},
   "outputs": [
    {
     "name": "stdout",
     "output_type": "stream",
     "text": [
      "1\n"
     ]
    }
   ],
   "source": [
    "def prediction(comment):\n",
    "    processed_comment=stemming(comment)\n",
    "    comment_list=[processed_comment]\n",
    "    vector_comment=vectorizer.transform(comment_list)\n",
    "    prediction=model.predict(vector_comment)[0]\n",
    "    return prediction\n",
    "\n",
    "prediction=prediction('love is a bitter sweet')\n",
    "print(prediction)"
   ]
  },
  {
   "cell_type": "code",
   "execution_count": null,
   "id": "f6423c6d-e226-41a0-9fcf-b0aff32a103d",
   "metadata": {},
   "outputs": [],
   "source": []
  }
 ],
 "metadata": {
  "kernelspec": {
   "display_name": "Python 3 (ipykernel)",
   "language": "python",
   "name": "python3"
  },
  "language_info": {
   "codemirror_mode": {
    "name": "ipython",
    "version": 3
   },
   "file_extension": ".py",
   "mimetype": "text/x-python",
   "name": "python",
   "nbconvert_exporter": "python",
   "pygments_lexer": "ipython3",
   "version": "3.11.7"
  }
 },
 "nbformat": 4,
 "nbformat_minor": 5
}
